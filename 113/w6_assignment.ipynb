{
  "nbformat": 4,
  "nbformat_minor": 0,
  "metadata": {
    "colab": {
      "provenance": []
    },
    "kernelspec": {
      "name": "python3",
      "display_name": "Python 3"
    },
    "language_info": {
      "name": "python"
    }
  },
  "cells": [
    {
      "cell_type": "markdown",
      "source": [
        "##Use the following steps to train and fine-tune a decision tree for the moons data set\n",
        "\n"
      ],
      "metadata": {
        "id": "A7PXgeRDcfBh"
      }
    },
    {
      "cell_type": "markdown",
      "source": [
        "###1.Generate a moons dataset using make_moons(n_samples=10000, noise=0.4"
      ],
      "metadata": {
        "id": "F6B8y1Ktf3qU"
      }
    },
    {
      "cell_type": "code",
      "execution_count": null,
      "metadata": {
        "id": "0eEho1o7cEew"
      },
      "outputs": [],
      "source": []
    },
    {
      "cell_type": "markdown",
      "source": [
        "###2.Split it into a training set and a test set using train_test_split().\n"
      ],
      "metadata": {
        "id": "Svpkzcxxf8oj"
      }
    },
    {
      "cell_type": "code",
      "source": [],
      "metadata": {
        "id": "7528-ZXBg5QJ"
      },
      "execution_count": null,
      "outputs": []
    },
    {
      "cell_type": "markdown",
      "source": [
        "###3.Use grid search with cross-validation (with the help of the GridSearchCV class) to find good hyperparameter values for a DecisionTreeClassifier. Hint: try various values for max_leaf_nodes."
      ],
      "metadata": {
        "id": "3jaLL0Uag2Sa"
      }
    },
    {
      "cell_type": "code",
      "source": [],
      "metadata": {
        "id": "19HXkmEWg5tB"
      },
      "execution_count": null,
      "outputs": []
    },
    {
      "cell_type": "markdown",
      "source": [
        "###4.Train it on the full training set using these hyperparameters, and measure your model's performance on the test set. You should get roughly 85% to 87% accuracy."
      ],
      "metadata": {
        "id": "ya9GKb2sg8Av"
      }
    },
    {
      "cell_type": "code",
      "source": [],
      "metadata": {
        "id": "lSmrCH0GhXwH"
      },
      "execution_count": null,
      "outputs": []
    }
  ]
}