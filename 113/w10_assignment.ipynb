{
  "nbformat": 4,
  "nbformat_minor": 0,
  "metadata": {
    "colab": {
      "provenance": []
    },
    "kernelspec": {
      "name": "python3",
      "display_name": "Python 3"
    },
    "language_info": {
      "name": "python"
    }
  },
  "cells": [
    {
      "cell_type": "markdown",
      "source": [
        "# Cluster the Olivetti Faces Dataset"
      ],
      "metadata": {
        "id": "XP7RaCodxZpC"
      }
    },
    {
      "cell_type": "markdown",
      "source": [
        "###Exercise 1: The classic Olivetti faces dataset contains 400 grayscale 64 × 64–pixel images of faces. Each image is flattened to a 1D vector of size 4,096. 40 different people were photographed (10 times each), and the usual task is to train a model that can predict which person is represented in each picture. Load the dataset using the `sklearn.datasets.fetch_olivetti_faces()` function."
      ],
      "metadata": {
        "id": "mRYkB-qmxeiC"
      }
    },
    {
      "cell_type": "code",
      "source": [],
      "metadata": {
        "id": "BbA-cbZr9-t5"
      },
      "execution_count": null,
      "outputs": []
    },
    {
      "cell_type": "markdown",
      "source": [
        "###Split data into a training set and a test set (note that the dataset is already scaled between 0 and 1). Since the dataset is quite small, stratified sampling is used to ensure that there are the same number of images per person in each set.(15%)\n",
        "\n",
        "Print out the shapes of X_train, y_train, X_test, y_test."
      ],
      "metadata": {
        "id": "BFteRNoaNeIA"
      }
    },
    {
      "cell_type": "code",
      "source": [],
      "metadata": {
        "id": "dZ1Xh0nl9_9g"
      },
      "execution_count": null,
      "outputs": []
    },
    {
      "cell_type": "markdown",
      "source": [
        "###Exercise 2: To speed up data processing and simplify visualization, apply two different dimensionality reduction techniques—PCA and t-SNE—on the dataset independently. Follow these steps:\n",
        "\n",
        "PCA:(15%)\n",
        "\n",
        "Use PCA to reduce the dimensionality of the data while retaining 99% of the variance.\n",
        "Then, transform the training and test data. Note that 'fit' is only performed for training data.\n",
        "Print the number of features retained.\n",
        "\n",
        "t-SNE:(15%)\n",
        "\n",
        "Apply t-SNE to reduce the data to 2 dimensions with random_state=42.\n",
        "Then, transform the training and test data. Note that 'fit' is only performed for training data.Visualize the results of the transformed training data."
      ],
      "metadata": {
        "id": "qMvap8MlOo0c"
      }
    },
    {
      "cell_type": "code",
      "source": [],
      "metadata": {
        "id": "xkDQByar-B23"
      },
      "execution_count": null,
      "outputs": []
    },
    {
      "cell_type": "markdown",
      "source": [
        "###Exercise 3: Next, cluster the images using K-Means separately on PCA-reduced and t-SNE-reduced data, and ensure that you choose a good number of clusters for each (using one of the techniques discussed in this chapter). (Hint: try different values of K between 80 and 140).(20%)"
      ],
      "metadata": {
        "id": "FOzbk3jqQemp"
      }
    },
    {
      "cell_type": "code",
      "source": [],
      "metadata": {
        "id": "Ql0uRH4z-DG3"
      },
      "execution_count": null,
      "outputs": []
    },
    {
      "cell_type": "markdown",
      "source": [
        "###Exercise 4: Create a K-means model using the optimal K and name it to 'best_model'. Then, fit it to the training data.(10%)"
      ],
      "metadata": {
        "id": "Tp9Ga2LDU_-u"
      }
    },
    {
      "cell_type": "code",
      "source": [],
      "metadata": {
        "id": "Cix1CJTD-D6_"
      },
      "execution_count": null,
      "outputs": []
    },
    {
      "cell_type": "markdown",
      "source": [
        "###Exercise 5: Visualize the clusters(PCA and t-SNE): do you see similar faces in each cluster?(25%)\n",
        "We will check your results to see if individuals with similar features are grouped together within the same cluster."
      ],
      "metadata": {
        "id": "fJqcTTYBVtk0"
      }
    },
    {
      "cell_type": "code",
      "source": [],
      "metadata": {
        "id": "3bFslwSl-EvX"
      },
      "execution_count": null,
      "outputs": []
    }
  ]
}