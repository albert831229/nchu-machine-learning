{
  "nbformat": 4,
  "nbformat_minor": 0,
  "metadata": {
    "colab": {
      "provenance": []
    },
    "kernelspec": {
      "name": "python3",
      "display_name": "Python 3"
    },
    "language_info": {
      "name": "python"
    }
  },
  "cells": [
    {
      "cell_type": "markdown",
      "source": [
        "# In-class exercise\n",
        "\n",
        "1.   Generate the Dataset\n",
        "2.   Build a Polynomial Regression Model\n",
        "3.   Implement Gradient Descent Algorithms (BGD, MGD, SGD)\n",
        "4.   Visualize Parameter Updates\n",
        "5.   Implement Early Stopping\n"
      ],
      "metadata": {
        "id": "UBE9ZFS12AR4"
      }
    },
    {
      "cell_type": "markdown",
      "source": [
        "##1.Generate the Dataset(10%)\n",
        "Use the following polynomial equation to generate data with random noise.\n",
        "\n",
        "\n",
        "$y = 0.75x^5 + 0.12x^4 + 0.2x^3 + 0.5x^2 + 1.5x + 1 + noise$\n",
        "\n"
      ],
      "metadata": {
        "id": "uoaSunWg_VXt"
      }
    },
    {
      "cell_type": "code",
      "source": [],
      "metadata": {
        "id": "QyCu1LZ36K3N"
      },
      "execution_count": null,
      "outputs": []
    },
    {
      "cell_type": "markdown",
      "source": [
        "##2.Build a Polynomial Regression Model(15%)"
      ],
      "metadata": {
        "id": "aW7g2b7qZtoX"
      }
    },
    {
      "cell_type": "code",
      "source": [],
      "metadata": {
        "id": "aHET_52C2wxW"
      },
      "execution_count": null,
      "outputs": []
    },
    {
      "cell_type": "markdown",
      "source": [
        "##3.Implement Gradient Descent Algorithms (BGD 15%, MGD 15%, SGD 15%)\n",
        "Implement Batch Gradient Descent, Mini-batch Gradient Descent, and Stochastic Gradient Descent.\n",
        "Train the polynomial regression model and observe the convergence speed of each algorithm."
      ],
      "metadata": {
        "id": "2JZcR7tVZ9aj"
      }
    },
    {
      "cell_type": "code",
      "source": [],
      "metadata": {
        "id": "MDKrIHkw2ype"
      },
      "execution_count": null,
      "outputs": []
    },
    {
      "cell_type": "markdown",
      "source": [
        "##4.Visualize Parameter Updates (15%)\n",
        "Visualize the parameter update process for the three algorithms. Plot the evolution of $\\theta_0$ ~ $\\theta_5$.\n",
        "\n",
        "\n",
        "\n",
        "\n",
        "\n"
      ],
      "metadata": {
        "id": "sCRSepGvaE_P"
      }
    },
    {
      "cell_type": "code",
      "source": [],
      "metadata": {
        "id": "SScayNdJ20aR"
      },
      "execution_count": null,
      "outputs": []
    },
    {
      "cell_type": "markdown",
      "source": [
        "##5.Implement Early Stopping(15%)\n",
        "Implement Early Stopping to terminate training, you can set the patience to a value of your choice."
      ],
      "metadata": {
        "id": "B8dsIc3NbrSO"
      }
    },
    {
      "cell_type": "code",
      "source": [],
      "metadata": {
        "id": "hxvSS9VZ22PL"
      },
      "execution_count": null,
      "outputs": []
    }
  ]
}